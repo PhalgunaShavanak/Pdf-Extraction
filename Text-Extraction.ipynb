!pip install pdfplumber

import pdfplumber
from google.colab import files

def extract_text_from_pdf(pdf_path):
    with pdfplumber.open(pdf_path) as pdf:
        text = ""
        for page in pdf.pages:
            text += page.extract_text()
    return text

# Upload your PDF file to Colab
uploaded = files.upload()

# Retrieve the filename of the uploaded file
pdf_filename = list(uploaded.keys())[0]

# Extract text from the uploaded PDF file
extracted_text = extract_text_from_pdf(pdf_filename)

print(extracted_text)
